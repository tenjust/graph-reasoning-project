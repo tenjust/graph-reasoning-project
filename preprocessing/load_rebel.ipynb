{
 "cells": [
  {
   "metadata": {
    "ExecuteTime": {
     "end_time": "2025-10-08T14:44:59.628943Z",
     "start_time": "2025-10-08T14:44:58.586276Z"
    }
   },
   "cell_type": "code",
   "source": [
    "import json\n",
    "from pathlib import Path\n",
    "import h5py\n",
    "from datasets import Dataset, DatasetDict\n",
    "import os\n",
    "#from transformers import AutoTokenizer, AutoModelForSeq2SeqLM, DataCollatorForSeq2Seq\n"
   ],
   "id": "ca067fbc5ca88d8",
   "outputs": [
    {
     "name": "stderr",
     "output_type": "stream",
     "text": [
      "/Users/ahmed/.pyenv/versions/3.13.5/envs/.venv/lib/python3.13/site-packages/tqdm/auto.py:21: TqdmWarning: IProgress not found. Please update jupyter and ipywidgets. See https://ipywidgets.readthedocs.io/en/stable/user_install.html\n",
      "  from .autonotebook import tqdm as notebook_tqdm\n"
     ]
    }
   ],
   "execution_count": 1
  },
  {
   "metadata": {
    "ExecuteTime": {
     "end_time": "2025-10-08T14:44:59.816040Z",
     "start_time": "2025-10-08T14:44:59.810411Z"
    }
   },
   "cell_type": "code",
   "source": [
    "# ---------- setup ----------\n",
    "root_path = Path(os.getcwd()).parent"
   ],
   "id": "64a9e7315d789525",
   "outputs": [],
   "execution_count": 2
  },
  {
   "metadata": {
    "ExecuteTime": {
     "end_time": "2025-10-08T14:45:07.577448Z",
     "start_time": "2025-10-08T14:45:07.544696Z"
    }
   },
   "cell_type": "code",
   "source": "root_path",
   "id": "2bec3f2cbad7e167",
   "outputs": [
    {
     "data": {
      "text/plain": [
       "PosixPath('/Users/ahmed/PycharmProjects/graph-reasoning-project')"
      ]
     },
     "execution_count": 3,
     "metadata": {},
     "output_type": "execute_result"
    }
   ],
   "execution_count": 3
  },
  {
   "metadata": {},
   "cell_type": "code",
   "outputs": [],
   "execution_count": null,
   "source": [
    "SPECIAL_TOKENS = [\"<triplet>\", \"<subj>\", \"<obj>\"]\n",
    "\n",
    "def _decode(b):\n",
    "    return b.decode(\"utf-8\", \"ignore\") if isinstance(b, (bytes, bytearray)) else b\n",
    "\n",
    "def _pick_text(d):\n",
    "    # Moritz’s JSON rows usually have 'text'. Fall back to common alternatives.\n",
    "    for k in (\"text\", \"context\", \"sentence\", \"source\"):\n",
    "        if k in d and d[k]:\n",
    "            return d[k]\n",
    "    return \"\"\n",
    "\n",
    "def _pick_triplets(d):\n",
    "    # Usually 'triplets'. Be tolerant to variants.\n",
    "    for k in (\"triplets\", \"relations\", \"labels\", \"targets\", \"target\"):\n",
    "        if k in d and d[k] is not None:\n",
    "            return d[k]\n",
    "    return []\n",
    "\n",
    "def linearize_triplets(triplets):\n",
    "    parts = []\n",
    "    for t in triplets or []:\n",
    "        if isinstance(t, dict):\n",
    "            s = str(t.get(\"subject\",\"\")).strip()\n",
    "            r = str(t.get(\"relation\",\"\")).strip()\n",
    "            o = str(t.get(\"object\",\"\")).strip()\n",
    "        elif isinstance(t, (list, tuple)) and len(t) >= 3:\n",
    "            s, r, o = map(lambda x: str(x).strip(), t[:3])\n",
    "        else:\n",
    "            continue\n",
    "        if s and r and o:\n",
    "            parts += [\"<triplet>\", s, \"<subj>\", r, \"<obj>\", o]\n",
    "    return \" \".join(parts)\n"
   ],
   "id": "44133cca6628cc78"
  },
  {
   "cell_type": "code",
   "execution_count": null,
   "id": "initial_id",
   "metadata": {
    "collapsed": true
   },
   "outputs": [],
   "source": [
    "def load_rebel_hdf5(path):\n",
    "    \"\"\"\n",
    "    Loads an HDF5 created by Moritz's script:\n",
    "      - datasets at the root named by split ('train', 'val', 'test', etc.)\n",
    "      - each element is a JSON string with at least 'text' and 'triplets' (or variants)\n",
    "    Returns a DatasetDict with splits as found in the file.\n",
    "    \"\"\"\n",
    "    dd = {}\n",
    "    with h5py.File(Path(path), \"r\") as f:\n",
    "        # auto-detect split names that are datasets (not groups)\n",
    "        split_names = [k for k in f.keys() if isinstance(f[k], h5py.Dataset)]\n",
    "        if not split_names:\n",
    "            raise RuntimeError(\"No split datasets found in HDF5 (expected datasets like 'train', 'val', 'test').\")\n",
    "\n",
    "        # normalize aliases (val/dev -> validation)\n",
    "        alias = {\"val\":\"validation\", \"valid\":\"validation\", \"dev\":\"validation\"}\n",
    "        for split in split_names:\n",
    "            canon = alias.get(split.lower(), split.lower())\n",
    "            arr = f[split][()]  # array of bytes/strings\n",
    "            rows = [json.loads(_decode(x)) for x in arr]\n",
    "\n",
    "            contexts = [_pick_text(d) for d in rows]\n",
    "            triplets = [_pick_triplets(d) for d in rows]\n",
    "\n",
    "            dd[canon] = Dataset.from_dict({\"context\": contexts, \"triplets\": triplets})\n",
    "\n",
    "    return DatasetDict(dd)\n",
    "\n",
    "# ---------- use it ----------\n",
    "ds = load_rebel_hdf5(os.path.join(root_path, \"baselines\",\"GraphLanguageModels\",\"data\", \"rebel_dataset\", \"rebel.hdf5\"))\n",
    "\n",
    "print(\"Splits found:\", list(ds.keys()))\n",
    "some_split = list(ds.keys())[0]\n",
    "print(ds[some_split][0])  # peek first example\n",
    "\n",
    "# Build (source, target) for seq2seq\n",
    "def build_io(example):\n",
    "    return {\"source\": example[\"context\"], \"target\": linearize_triplets(example.get(\"triplets\", []))}\n",
    "\n",
    "ds_io = ds.map(build_io, remove_columns=[c for c in ds[next(iter(ds))].column_names if c not in (\"context\",\"triplets\")])\n",
    "\n",
    "# Optional: drop empty targets\n",
    "ds_io = ds_io.filter(lambda e: bool(e[\"target\"].strip()))\n"
   ]
  }
 ],
 "metadata": {
  "kernelspec": {
   "display_name": "Python 3",
   "language": "python",
   "name": "python3"
  },
  "language_info": {
   "codemirror_mode": {
    "name": "ipython",
    "version": 2
   },
   "file_extension": ".py",
   "mimetype": "text/x-python",
   "name": "python",
   "nbconvert_exporter": "python",
   "pygments_lexer": "ipython2",
   "version": "2.7.6"
  }
 },
 "nbformat": 4,
 "nbformat_minor": 5
}
